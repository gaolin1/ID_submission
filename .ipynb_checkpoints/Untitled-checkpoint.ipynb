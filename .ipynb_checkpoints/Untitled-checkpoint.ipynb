{
 "cells": [
  {
   "cell_type": "code",
   "execution_count": null,
   "id": "5d47bf10",
   "metadata": {},
   "outputs": [],
   "source": [
    "import altair as alt\n",
    "import pandas as pd\n",
    "\n",
    "# create sample data\n",
    "data = pd.DataFrame({\n",
    "    'Drug': ['Drug A', 'Drug B', 'Drug A', 'Drug B', 'Drug A', 'Drug C'],\n",
    "    'Department': ['Dept 1', 'Dept 1', 'Dept 2', 'Dept 2', 'Dept 3', 'Dept 1'],\n",
    "    'Value': [10, 20, 15, 25, 5, 30]\n",
    "})\n",
    "\n",
    "# split drug names into separate columns\n",
    "drug_cols = data['Drug'].str.split(' ', expand=True)\n",
    "drug_cols.columns = ['Drug Class', 'Drug Name']\n",
    "data = pd.concat([data, drug_cols], axis=1)\n",
    "\n",
    "# split department names into separate columns\n",
    "dept_cols = data['Department'].str.split(' ', expand=True)\n",
    "dept_cols.columns = ['Dept Class', 'Dept Name']\n",
    "data = pd.concat([data, dept_cols], axis=1)\n",
    "\n",
    "# group data by drug, department, and sum values\n",
    "group_cols = list(drug_cols.columns) + list(dept_cols.columns)\n",
    "agg_data = data.groupby(group_cols).sum('Value').reset_index()\n",
    "\n",
    "# create chart\n",
    "chart = alt.Chart(agg_data).mark_line().encode(\n",
    "    x=alt.X(drug_cols.columns[-1], axis=alt.Axis(title='Drug')),\n",
    "    y=alt.Y('Value', axis=alt.Axis(title='Total Value')),\n",
    "    color=alt.Color(drug_cols.columns[0], legend=alt.Legend(title='Drug Class')),\n",
    "    row=alt.Row('Dept Name', header=alt.Header(title='Department'))\n",
    ")\n",
    "\n",
    "chart.show()"
   ]
  },
  {
   "cell_type": "code",
   "execution_count": null,
   "id": "8cbba3f4",
   "metadata": {},
   "outputs": [],
   "source": []
  }
 ],
 "metadata": {
  "kernelspec": {
   "display_name": "Python 3 (ipykernel)",
   "language": "python",
   "name": "python3"
  },
  "language_info": {
   "codemirror_mode": {
    "name": "ipython",
    "version": 3
   },
   "file_extension": ".py",
   "mimetype": "text/x-python",
   "name": "python",
   "nbconvert_exporter": "python",
   "pygments_lexer": "ipython3",
   "version": "3.11.0"
  }
 },
 "nbformat": 4,
 "nbformat_minor": 5
}
