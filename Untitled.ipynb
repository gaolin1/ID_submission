{
 "cells": [
  {
   "cell_type": "code",
   "execution_count": 3,
   "id": "be8786a8",
   "metadata": {},
   "outputs": [
    {
     "ename": "ValueError",
     "evalue": "show() method requires the altair_viewer package. See http://github.com/altair-viz/altair_viewer",
     "output_type": "error",
     "traceback": [
      "\u001b[0;31m---------------------------------------------------------------------------\u001b[0m",
      "\u001b[0;31mModuleNotFoundError\u001b[0m                       Traceback (most recent call last)",
      "File \u001b[0;32m/Library/Frameworks/Python.framework/Versions/3.11/lib/python3.11/site-packages/altair/vegalite/v4/api.py:1789\u001b[0m, in \u001b[0;36mTopLevelMixin.show\u001b[0;34m(self, embed_opt, open_browser)\u001b[0m\n\u001b[1;32m   1788\u001b[0m \u001b[38;5;28;01mtry\u001b[39;00m:\n\u001b[0;32m-> 1789\u001b[0m     \u001b[38;5;28;01mimport\u001b[39;00m \u001b[38;5;21;01maltair_viewer\u001b[39;00m  \u001b[38;5;66;03m# type: ignore\u001b[39;00m\n\u001b[1;32m   1790\u001b[0m \u001b[38;5;28;01mexcept\u001b[39;00m \u001b[38;5;167;01mImportError\u001b[39;00m:\n",
      "\u001b[0;31mModuleNotFoundError\u001b[0m: No module named 'altair_viewer'",
      "\nDuring handling of the above exception, another exception occurred:\n",
      "\u001b[0;31mValueError\u001b[0m                                Traceback (most recent call last)",
      "Cell \u001b[0;32mIn[3], line 33\u001b[0m\n\u001b[1;32m     25\u001b[0m \u001b[38;5;66;03m# create chart\u001b[39;00m\n\u001b[1;32m     26\u001b[0m chart \u001b[38;5;241m=\u001b[39m alt\u001b[38;5;241m.\u001b[39mChart(agg_data)\u001b[38;5;241m.\u001b[39mmark_line()\u001b[38;5;241m.\u001b[39mencode(\n\u001b[1;32m     27\u001b[0m     x\u001b[38;5;241m=\u001b[39malt\u001b[38;5;241m.\u001b[39mX(drug_cols\u001b[38;5;241m.\u001b[39mcolumns[\u001b[38;5;241m-\u001b[39m\u001b[38;5;241m1\u001b[39m], axis\u001b[38;5;241m=\u001b[39malt\u001b[38;5;241m.\u001b[39mAxis(title\u001b[38;5;241m=\u001b[39m\u001b[38;5;124m'\u001b[39m\u001b[38;5;124mDrug\u001b[39m\u001b[38;5;124m'\u001b[39m)),\n\u001b[1;32m     28\u001b[0m     y\u001b[38;5;241m=\u001b[39malt\u001b[38;5;241m.\u001b[39mY(\u001b[38;5;124m'\u001b[39m\u001b[38;5;124mValue\u001b[39m\u001b[38;5;124m'\u001b[39m, axis\u001b[38;5;241m=\u001b[39malt\u001b[38;5;241m.\u001b[39mAxis(title\u001b[38;5;241m=\u001b[39m\u001b[38;5;124m'\u001b[39m\u001b[38;5;124mTotal Value\u001b[39m\u001b[38;5;124m'\u001b[39m)),\n\u001b[1;32m     29\u001b[0m     color\u001b[38;5;241m=\u001b[39malt\u001b[38;5;241m.\u001b[39mColor(drug_cols\u001b[38;5;241m.\u001b[39mcolumns[\u001b[38;5;241m0\u001b[39m], legend\u001b[38;5;241m=\u001b[39malt\u001b[38;5;241m.\u001b[39mLegend(title\u001b[38;5;241m=\u001b[39m\u001b[38;5;124m'\u001b[39m\u001b[38;5;124mDrug Class\u001b[39m\u001b[38;5;124m'\u001b[39m)),\n\u001b[1;32m     30\u001b[0m     row\u001b[38;5;241m=\u001b[39malt\u001b[38;5;241m.\u001b[39mRow(\u001b[38;5;124m'\u001b[39m\u001b[38;5;124mDept Name\u001b[39m\u001b[38;5;124m'\u001b[39m, header\u001b[38;5;241m=\u001b[39malt\u001b[38;5;241m.\u001b[39mHeader(title\u001b[38;5;241m=\u001b[39m\u001b[38;5;124m'\u001b[39m\u001b[38;5;124mDepartment\u001b[39m\u001b[38;5;124m'\u001b[39m))\n\u001b[1;32m     31\u001b[0m )\n\u001b[0;32m---> 33\u001b[0m \u001b[43mchart\u001b[49m\u001b[38;5;241;43m.\u001b[39;49m\u001b[43mshow\u001b[49m\u001b[43m(\u001b[49m\u001b[43m)\u001b[49m\n",
      "File \u001b[0;32m/Library/Frameworks/Python.framework/Versions/3.11/lib/python3.11/site-packages/altair/vegalite/v4/api.py:1791\u001b[0m, in \u001b[0;36mTopLevelMixin.show\u001b[0;34m(self, embed_opt, open_browser)\u001b[0m\n\u001b[1;32m   1789\u001b[0m     \u001b[38;5;28;01mimport\u001b[39;00m \u001b[38;5;21;01maltair_viewer\u001b[39;00m  \u001b[38;5;66;03m# type: ignore\u001b[39;00m\n\u001b[1;32m   1790\u001b[0m \u001b[38;5;28;01mexcept\u001b[39;00m \u001b[38;5;167;01mImportError\u001b[39;00m:\n\u001b[0;32m-> 1791\u001b[0m     \u001b[38;5;28;01mraise\u001b[39;00m \u001b[38;5;167;01mValueError\u001b[39;00m(\n\u001b[1;32m   1792\u001b[0m         \u001b[38;5;124m\"\u001b[39m\u001b[38;5;124mshow() method requires the altair_viewer package. \u001b[39m\u001b[38;5;124m\"\u001b[39m\n\u001b[1;32m   1793\u001b[0m         \u001b[38;5;124m\"\u001b[39m\u001b[38;5;124mSee http://github.com/altair-viz/altair_viewer\u001b[39m\u001b[38;5;124m\"\u001b[39m\n\u001b[1;32m   1794\u001b[0m     )\n\u001b[1;32m   1795\u001b[0m altair_viewer\u001b[38;5;241m.\u001b[39mshow(\u001b[38;5;28mself\u001b[39m, embed_opt\u001b[38;5;241m=\u001b[39membed_opt, open_browser\u001b[38;5;241m=\u001b[39mopen_browser)\n",
      "\u001b[0;31mValueError\u001b[0m: show() method requires the altair_viewer package. See http://github.com/altair-viz/altair_viewer"
     ]
    }
   ],
   "source": [
    "import altair as alt\n",
    "import pandas as pd\n",
    "\n",
    "# create sample data\n",
    "data = pd.DataFrame({\n",
    "    'Drug': ['Drug A', 'Drug B', 'Drug A', 'Drug B', 'Drug A', 'Drug C'],\n",
    "    'Department': ['Dept 1', 'Dept 1', 'Dept 2', 'Dept 2', 'Dept 3', 'Dept 1'],\n",
    "    'Value': [10, 20, 15, 25, 5, 30]\n",
    "})\n",
    "\n",
    "# split drug names into separate columns\n",
    "drug_cols = data['Drug'].str.split(' ', expand=True)\n",
    "drug_cols.columns = ['Drug Class', 'Drug Name']\n",
    "data = pd.concat([data, drug_cols], axis=1)\n",
    "\n",
    "# split department names into separate columns\n",
    "dept_cols = data['Department'].str.split(' ', expand=True)\n",
    "dept_cols.columns = ['Dept Class', 'Dept Name']\n",
    "data = pd.concat([data, dept_cols], axis=1)\n",
    "\n",
    "# group data by drug, department, and sum values\n",
    "group_cols = list(drug_cols.columns) + list(dept_cols.columns)\n",
    "agg_data = data.groupby(group_cols).sum('Value').reset_index()\n",
    "\n",
    "# create chart\n",
    "chart = alt.Chart(agg_data).mark_line().encode(\n",
    "    x=alt.X(drug_cols.columns[-1], axis=alt.Axis(title='Drug')),\n",
    "    y=alt.Y('Value', axis=alt.Axis(title='Total Value')),\n",
    "    color=alt.Color(drug_cols.columns[0], legend=alt.Legend(title='Drug Class')),\n",
    "    row=alt.Row('Dept Name', header=alt.Header(title='Department'))\n",
    ")\n",
    "\n",
    "chart.show()"
   ]
  },
  {
   "cell_type": "code",
   "execution_count": null,
   "id": "34bee6aa",
   "metadata": {},
   "outputs": [],
   "source": []
  }
 ],
 "metadata": {
  "kernelspec": {
   "display_name": "Python 3 (ipykernel)",
   "language": "python",
   "name": "python3"
  },
  "language_info": {
   "codemirror_mode": {
    "name": "ipython",
    "version": 3
   },
   "file_extension": ".py",
   "mimetype": "text/x-python",
   "name": "python",
   "nbconvert_exporter": "python",
   "pygments_lexer": "ipython3",
   "version": "3.11.0"
  }
 },
 "nbformat": 4,
 "nbformat_minor": 5
}
